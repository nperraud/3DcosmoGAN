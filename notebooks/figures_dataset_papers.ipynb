{
 "cells": [
  {
   "cell_type": "code",
   "execution_count": null,
   "metadata": {},
   "outputs": [],
   "source": [
    "%load_ext autoreload\n",
    "%autoreload 2\n",
    "%matplotlib inline"
   ]
  },
  {
   "cell_type": "code",
   "execution_count": null,
   "metadata": {},
   "outputs": [],
   "source": [
    "import sys\n",
    "sys.path.insert(0, '../')"
   ]
  },
  {
   "cell_type": "code",
   "execution_count": null,
   "metadata": {},
   "outputs": [],
   "source": [
    "import numpy as np\n",
    "import tensorflow as tf\n",
    "import os\n",
    "from cosmotools.data import load, fmap\n",
    "from skimage import io\n",
    "from gantools import blocks\n",
    "# from data.Dataset import Dataset_3d\n",
    "# from data.Dataset_medical import DatasetMedical\n",
    "# from data.fmap import log_norm_forward\n",
    "# from utils import compose2\n",
    "# import blocks\n",
    "from matplotlib import pyplot as plt"
   ]
  },
  {
   "cell_type": "code",
   "execution_count": null,
   "metadata": {},
   "outputs": [],
   "source": [
    "from functools import partial\n",
    "shift = 1\n",
    "c = 20000\n",
    "forward = partial(fmap.stat_forward, c=c, shift=shift)\n",
    "backward = partial(fmap.stat_backward, c=c, shift=shift)"
   ]
  },
  {
   "cell_type": "code",
   "execution_count": null,
   "metadata": {},
   "outputs": [],
   "source": [
    "pathfig = 'figures/'\n",
    "os.makedirs(pathfig, exist_ok=True)"
   ]
  },
  {
   "cell_type": "code",
   "execution_count": null,
   "metadata": {},
   "outputs": [],
   "source": [
    "some_data = load.load_nbody_dataset(ncubes=1,resolution=256,Mpch=350,spix=256, shuffle=False, forward_map=forward)"
   ]
  },
  {
   "cell_type": "code",
   "execution_count": null,
   "metadata": {},
   "outputs": [],
   "source": [
    "X = np.squeeze(some_data.get_all_data())"
   ]
  },
  {
   "cell_type": "code",
   "execution_count": null,
   "metadata": {},
   "outputs": [],
   "source": [
    "X0 = X[1]\n",
    "vlim = [np.min(X0), np.max(X[0])]"
   ]
  },
  {
   "cell_type": "code",
   "execution_count": null,
   "metadata": {},
   "outputs": [],
   "source": [
    "plt.figure(figsize=[8,8])\n",
    "plt.imshow(X[0], vmin=vlim[0], vmax=vlim[1], cmap=plt.cm.plasma)\n",
    "plt.axis('off')\n",
    "plt.savefig(pathfig+\"full_real\", bbox_inches='tight')"
   ]
  },
  {
   "cell_type": "code",
   "execution_count": null,
   "metadata": {},
   "outputs": [],
   "source": [
    "plt.figure(figsize=[8,8])\n",
    "plt.imshow(X[100], vmin=vlim[0], vmax=vlim[1], cmap=plt.cm.plasma)\n",
    "plt.axis('off')\n",
    "plt.savefig(pathfig+\"full_real_2\", bbox_inches='tight')"
   ]
  },
  {
   "cell_type": "code",
   "execution_count": null,
   "metadata": {},
   "outputs": [],
   "source": [
    "plt.figure(figsize=[4,4])\n",
    "plt.imshow(X[0][:128,:128],vmin=vlim[0], vmax=vlim[1], cmap=plt.cm.plasma)\n",
    "plt.axis('off')\n",
    "plt.savefig(pathfig+\"1quarter_real\", bbox_inches='tight')\n",
    "\n",
    "plt.figure(figsize=[4,4])\n",
    "plt.imshow(X[0][:128,128:],vmin=vlim[0], vmax=vlim[1], cmap=plt.cm.plasma)\n",
    "plt.axis('off')\n",
    "plt.savefig(pathfig+\"2quarter_real\", bbox_inches='tight')\n",
    "\n",
    "plt.figure(figsize=[4,4])\n",
    "plt.imshow(X[0][128:,:128],vmin=vlim[0], vmax=vlim[1], cmap=plt.cm.plasma)\n",
    "plt.axis('off')\n",
    "plt.savefig(pathfig+\"3quarter_real\", bbox_inches='tight')\n",
    "\n",
    "plt.figure(figsize=[4,4])\n",
    "plt.imshow(X[0][128:,128:],vmin=vlim[0], vmax=vlim[1], cmap=plt.cm.plasma)\n",
    "plt.axis('off')\n",
    "plt.savefig(pathfig+\"4quarter_real\", bbox_inches='tight')\n"
   ]
  },
  {
   "cell_type": "code",
   "execution_count": null,
   "metadata": {},
   "outputs": [],
   "source": [
    "X_fake = X[50][128:,128:]\n",
    "plt.figure(figsize=[4,4])\n",
    "plt.imshow(X_fake,vmin=vlim[0], vmax=vlim[1], cmap=plt.cm.plasma)\n",
    "plt.axis('off')\n",
    "plt.savefig(pathfig+\"4quarter_fake\", bbox_inches='tight')"
   ]
  },
  {
   "cell_type": "code",
   "execution_count": null,
   "metadata": {},
   "outputs": [],
   "source": [
    "X_fake_full = X0.copy()\n",
    "X_fake_full[128:,128:] = X_fake\n",
    "plt.figure(figsize=[8,8])\n",
    "plt.imshow(X_fake_full,vmin=vlim[0], vmax=vlim[1], cmap=plt.cm.plasma, origin='upper')\n",
    "plt.axis('off')\n",
    "plt.savefig(pathfig+\"full_fake\", bbox_inches='tight')"
   ]
  },
  {
   "cell_type": "code",
   "execution_count": null,
   "metadata": {},
   "outputs": [],
   "source": [
    "plt.figure(figsize=[8,8])\n",
    "plt.imshow(X[0], vmin=vlim[0], vmax=vlim[1], cmap=plt.cm.plasma,origin='upper')\n",
    "plt.plot([128,128], [0,256], color='g', linestyle='--', linewidth=4)\n",
    "plt.plot([0,256], [128,128], color='g', linestyle='--', linewidth=4)\n",
    "plt.axis('off')\n",
    "plt.savefig(pathfig+\"full_real_cut\", bbox_inches='tight')"
   ]
  },
  {
   "cell_type": "code",
   "execution_count": null,
   "metadata": {},
   "outputs": [],
   "source": [
    "X_fake_full = X0.copy()\n",
    "X_fake_full[128:,128:] = X_fake\n",
    "plt.figure(figsize=[8,8])\n",
    "plt.imshow(X_fake_full,vmin=vlim[0], vmax=vlim[1], cmap=plt.cm.plasma, origin='upper')\n",
    "plt.plot([128,128], [0,256], color='g', linestyle='--', linewidth=4)\n",
    "plt.plot([0,256], [128,128], color='g', linestyle='--', linewidth=4)\n",
    "plt.axis('off')\n",
    "plt.savefig(pathfig+\"full_fake_cut\", bbox_inches='tight')"
   ]
  },
  {
   "cell_type": "code",
   "execution_count": null,
   "metadata": {},
   "outputs": [],
   "source": [
    "Noise = np.random.randn(128,128)\n",
    "plt.figure(figsize=[4,4])\n",
    "plt.imshow(Noise, cmap=plt.cm.plasma)\n",
    "plt.axis('off')\n",
    "plt.savefig(pathfig+\"noise\", bbox_inches='tight')"
   ]
  },
  {
   "cell_type": "code",
   "execution_count": null,
   "metadata": {},
   "outputs": [],
   "source": [
    "plt.figure(figsize=[4,4])\n",
    "plt.imshow(blocks.np_downsample_2d(X[0][128:,128:],4),vmin=vlim[0], vmax=vlim[1], cmap=plt.cm.plasma)\n",
    "plt.axis('off')\n",
    "plt.savefig(pathfig+\"4quarter_ds\", bbox_inches='tight')"
   ]
  },
  {
   "cell_type": "code",
   "execution_count": null,
   "metadata": {},
   "outputs": [],
   "source": [
    "plt.figure(figsize=[4,4])\n",
    "plt.imshow(blocks.np_downsample_2d(X[0],8),vmin=vlim[0], vmax=vlim[1], cmap=plt.cm.plasma)\n",
    "plt.axis('off')\n",
    "plt.savefig(pathfig+\"downsample_8\", bbox_inches='tight')\n",
    "\n",
    "plt.figure(figsize=[4,4])\n",
    "plt.imshow(blocks.np_downsample_2d(X[0],4),vmin=vlim[0], vmax=vlim[1], cmap=plt.cm.plasma)\n",
    "plt.axis('off')\n",
    "plt.savefig(pathfig+\"downsample_4\", bbox_inches='tight')\n",
    "\n",
    "plt.figure(figsize=[4,4])\n",
    "plt.imshow(blocks.np_downsample_2d(X[0],1),vmin=vlim[0], vmax=vlim[1], cmap=plt.cm.plasma)\n",
    "plt.axis('off')\n",
    "plt.savefig(pathfig+\"downsample_1\", bbox_inches='tight')"
   ]
  },
  {
   "cell_type": "code",
   "execution_count": null,
   "metadata": {},
   "outputs": [],
   "source": [
    "some_data = load.load_nbody_dataset(ncubes=1,resolution=256,Mpch=350,spix=256, shuffle=False)"
   ]
  },
  {
   "cell_type": "code",
   "execution_count": null,
   "metadata": {},
   "outputs": [],
   "source": [
    "Xhr = np.squeeze(fmap.stat_forward(np.mean(some_data.get_all_data()[:10],axis=0)))"
   ]
  },
  {
   "cell_type": "code",
   "execution_count": null,
   "metadata": {},
   "outputs": [],
   "source": [
    "plt.figure(figsize=[14,14])\n",
    "plt.imshow(Xhr, vmin=vlim[0], vmax=vlim[1], cmap=plt.cm.plasma)\n",
    "plt.axis('off')\n",
    "plt.savefig(pathfig+\"full_real_512.pdf\", bbox_inches='tight', format='pdf')"
   ]
  },
  {
   "cell_type": "code",
   "execution_count": null,
   "metadata": {},
   "outputs": [],
   "source": [
    "all_data = load.load_nbody_dataset(resolution=256,Mpch=350,spix=256, shuffle=False).get_all_data()"
   ]
  },
  {
   "cell_type": "code",
   "execution_count": null,
   "metadata": {},
   "outputs": [],
   "source": [
    "all_data = all_data.flatten()"
   ]
  },
  {
   "cell_type": "code",
   "execution_count": null,
   "metadata": {},
   "outputs": [],
   "source": [
    "np.max(all_data)"
   ]
  },
  {
   "cell_type": "code",
   "execution_count": null,
   "metadata": {},
   "outputs": [],
   "source": [
    "np.min(all_data)"
   ]
  },
  {
   "cell_type": "code",
   "execution_count": null,
   "metadata": {},
   "outputs": [],
   "source": [
    "X = all_data\n",
    "max_x = np.int(np.max(X))\n",
    "v,a = np.histogram(X.flatten()+1,bins=max_x,range=[0, max_x] )\n",
    "Np = np.sum(v)*10\n",
    "k = 2\n",
    "a2 = np.arange(1,max_x)\n",
    "v2 = Np/(a2**k)\n",
    "plt.plot(a[:-1],v, a2,v2,'--')\n",
    "plt.xscale('log')\n",
    "plt.yscale('log')"
   ]
  },
  {
   "cell_type": "code",
   "execution_count": null,
   "metadata": {},
   "outputs": [],
   "source": [
    "plt.figure(figsize=[5,3])\n",
    "plt.hist(all_data, 1000)\n",
    "plt.xscale('log')\n",
    "plt.yscale('log')\n",
    "plt.title('Before transformation')\n",
    "plt.xlabel('Number of particles')\n",
    "plt.ylabel('Frequency');\n",
    "plt.savefig(pathfig+\"hist_raw.pdf\", bbox_inches='tight', format='pdf')\n",
    "plt.savefig(pathfig+\"hist_raw.png\", bbox_inches='tight', format='png')"
   ]
  },
  {
   "cell_type": "code",
   "execution_count": null,
   "metadata": {},
   "outputs": [],
   "source": [
    "plt.figure(figsize=[5,3])\n",
    "plt.hist(forward(all_data), 1000)\n",
    "plt.yscale('log')\n",
    "plt.title('After transformation')\n",
    "plt.xlabel('Mapped space')\n",
    "plt.ylabel('Frequency');\n",
    "plt.savefig(pathfig+\"hist_trans.pdf\", bbox_inches='tight', format='pdf')\n",
    "plt.savefig(pathfig+\"hist_trans.png\", bbox_inches='tight', format='png')"
   ]
  },
  {
   "cell_type": "code",
   "execution_count": null,
   "metadata": {},
   "outputs": [],
   "source": [
    "import matplotlib \n",
    "font = {'size'   : 14}\n",
    "\n",
    "matplotlib.rc('font', **font)\n",
    "x = np.arange(1,180000)\n",
    "y = forward(x)\n",
    "plt.figure(figsize=(6,2))\n",
    "plt.plot(x, y, LineWidth=3)\n",
    "plt.title('Linear>20000', fontsize=14)\n",
    "plt.plot([20000,20000],[0,5], 'g--')\n",
    "plt.savefig(pathfig+\"trans_linear.pdf\", bbox_inches='tight', format='pdf')\n",
    "plt.savefig(pathfig+\"trans_linear.png\", bbox_inches='tight', format='png')\n",
    "\n",
    "plt.figure(figsize=(6,2))\n",
    "plt.plot(x, y, LineWidth=3)\n",
    "plt.xscale('log')\n",
    "plt.title('Log<20000', fontsize=14)\n",
    "plt.plot([20000,20000],[0,5], 'g--')\n",
    "\n",
    "plt.savefig(pathfig+\"trans_log.pdf\", bbox_inches='tight', format='pdf')\n",
    "plt.savefig(pathfig+\"trans_log.png\", bbox_inches='tight', format='png')\n",
    "\n"
   ]
  },
  {
   "cell_type": "code",
   "execution_count": null,
   "metadata": {},
   "outputs": [],
   "source": []
  }
 ],
 "metadata": {
  "kernelspec": {
   "display_name": "Python 3",
   "language": "python",
   "name": "python3"
  },
  "language_info": {
   "codemirror_mode": {
    "name": "ipython",
    "version": 3
   },
   "file_extension": ".py",
   "mimetype": "text/x-python",
   "name": "python",
   "nbconvert_exporter": "python",
   "pygments_lexer": "ipython3",
   "version": "3.5.2"
  }
 },
 "nbformat": 4,
 "nbformat_minor": 2
}
