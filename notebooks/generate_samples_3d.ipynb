{
 "cells": [
  {
   "cell_type": "code",
   "execution_count": null,
   "metadata": {},
   "outputs": [],
   "source": [
    "%load_ext autoreload\n",
    "%autoreload 2\n",
    "%matplotlib inline"
   ]
  },
  {
   "cell_type": "code",
   "execution_count": null,
   "metadata": {},
   "outputs": [],
   "source": [
    "import sys\n",
    "sys.path.insert(0, '../')"
   ]
  },
  {
   "cell_type": "code",
   "execution_count": null,
   "metadata": {},
   "outputs": [],
   "source": [
    "import numpy as np\n",
    "import tensorflow as tf\n",
    "import functools\n",
    "from matplotlib import pyplot as plt\n",
    "import os\n",
    "os.environ[\"CUDA_VISIBLE_DEVICES\"]=\"1\"\n",
    "\n",
    "from gantools import utils, plot\n",
    "from gantools.gansystem import GANsystem\n",
    "from gantools.model import WGAN, UpscalePatchWGAN\n",
    "\n",
    "from cosmotools.metric import evaluation\n",
    "from cosmotools.model import CosmoWGAN\n",
    "from cosmotools.data import load\n",
    "from cosmotools.data import fmap\n",
    "from cosmotools.gansystem import CosmoUpscaleGANsystem as UpscaleGANsystem"
   ]
  },
  {
   "cell_type": "code",
   "execution_count": null,
   "metadata": {},
   "outputs": [],
   "source": [
    "# Setting the forward and backward transform\n",
    "\n",
    "shift = 1\n",
    "c = 20000\n",
    "from functools import partial\n",
    "forward = partial(fmap.stat_forward, shift=shift, c=c)\n",
    "backward = partial(fmap.stat_backward, shift=shift, c=c)\n",
    "\n",
    "\n",
    "# number of sample generated\n",
    "num_samples = 30\n",
    "\n",
    "pathmodel = '../saved_results/nbody'\n",
    "exp = ''\n",
    "pathsample = '../samples/{}nbody'.format(exp)\n"
   ]
  },
  {
   "cell_type": "code",
   "execution_count": null,
   "metadata": {},
   "outputs": [],
   "source": [
    "def map_to_plot(img):\n",
    "    return fmap.log_forward(backward(img))\n",
    "\n",
    "def plot_cubes_paper(cubes, slice_num=None, nx=2, ny=2, **kwargs):\n",
    "    if len(cubes)<nx*ny:\n",
    "        raise ValueError(\"Not enough samples.\")\n",
    "    if slice_num is None:\n",
    "        slice_num = cubes.shape[1]//2+4\n",
    "    fig, ax = plt.subplots(nx, ny, sharey=True,figsize=(11/2*nx,10.5/2*ny))\n",
    "    sn = 0\n",
    "    for i in range(nx):\n",
    "        for j in range(ny):\n",
    "            if nx==1 and ny==1:\n",
    "                tax = ax\n",
    "            elif nx==1:\n",
    "                tax = ax[j]\n",
    "            elif ny==1:\n",
    "                tax = ax[i]\n",
    "            else:\n",
    "                tax = ax[i,j]\n",
    "            tax.imshow(map_to_plot(cubes[sn,slice_num]), interpolation='none', **kwargs)\n",
    "            tax.axis('off')\n",
    "            sn += 1\n",
    "    plt.tight_layout()\n",
    "\n",
    "    return fig"
   ]
  },
  {
   "cell_type": "markdown",
   "metadata": {},
   "source": [
    "# Generate samples - 32->64->256"
   ]
  },
  {
   "cell_type": "markdown",
   "metadata": {},
   "source": [
    "## 0->32"
   ]
  },
  {
   "cell_type": "code",
   "execution_count": null,
   "metadata": {},
   "outputs": [],
   "source": [
    "# name = 'WGAN_{}0_to_32_checkpoints'.format(exp)\n",
    "# checkpoint32 = 138000 #49000\n",
    "\n",
    "name = 'WGAN_{}0_to_32_checkpoints'.format(exp)\n",
    "checkpoint32 = 34000 #None # to be changed if you retrain the network\n",
    "\n",
    "\n",
    "pathmodel32 = os.path.join(pathmodel, name)\n",
    "params_32 = utils.load_params(pathmodel32)"
   ]
  },
  {
   "cell_type": "code",
   "execution_count": null,
   "metadata": {},
   "outputs": [],
   "source": [
    "wgan_32 = GANsystem(CosmoWGAN,params_32)"
   ]
  },
  {
   "cell_type": "code",
   "execution_count": null,
   "metadata": {},
   "outputs": [],
   "source": [
    "gen_samples_32 = wgan_32.generate(N=num_samples, checkpoint=checkpoint32)\n",
    "gen_samples_32 = np.squeeze(gen_samples_32)"
   ]
  },
  {
   "cell_type": "code",
   "execution_count": null,
   "metadata": {},
   "outputs": [],
   "source": [
    "os.makedirs(os.path.join(pathsample,'{}0_32/'.format(exp)), exist_ok=True)\n",
    "utils.save_hdf5(gen_samples_32, os.path.join(pathsample,'{}0_32/32_samples_ckpt_latest.h5'.format(exp)))"
   ]
  },
  {
   "cell_type": "code",
   "execution_count": null,
   "metadata": {},
   "outputs": [],
   "source": [
    "cmin = 0.1\n",
    "cmax = 2\n",
    "clim = (cmin, cmax)\n",
    "plot_cubes_paper(gen_samples_32, cmap=plt.cm.plasma, clim=clim, nx=4, ny=4);"
   ]
  },
  {
   "cell_type": "markdown",
   "metadata": {},
   "source": [
    "## 32->64"
   ]
  },
  {
   "cell_type": "markdown",
   "metadata": {},
   "source": [
    "Load fake 32"
   ]
  },
  {
   "cell_type": "code",
   "execution_count": null,
   "metadata": {},
   "outputs": [],
   "source": [
    "gen_samples_32 = utils.load_hdf5(os.path.join(pathsample,'{}0_32/32_samples_ckpt_latest.h5'.format(exp)))[:num_samples]\n",
    "print(\"gen_samples_32 shape=\", gen_samples_32.shape)\n",
    "gen_samples_32 = np.expand_dims(gen_samples_32, axis=4)\n",
    "print('downsampled shape=', gen_samples_32.shape)"
   ]
  },
  {
   "cell_type": "code",
   "execution_count": null,
   "metadata": {},
   "outputs": [],
   "source": [
    "name = 'WGAN_{}32_to_64_checkpoints'.format(exp)\n",
    "checkpoint64 = 92000 # to be changed if you retrain the network\n",
    "class CosmoUpscalePatchWGAN(UpscalePatchWGAN, CosmoWGAN):\n",
    "    pass\n",
    "\n",
    "pathmodel64 = os.path.join(pathmodel, name)\n",
    "params_64 = utils.load_params(pathmodel64)"
   ]
  },
  {
   "cell_type": "code",
   "execution_count": null,
   "metadata": {},
   "outputs": [],
   "source": [
    "wgan_64 = UpscaleGANsystem(CosmoUpscalePatchWGAN, params_64)\n",
    "gen_samples_64 = wgan_64.upscale_image(small=gen_samples_32, checkpoint=checkpoint64)"
   ]
  },
  {
   "cell_type": "code",
   "execution_count": null,
   "metadata": {},
   "outputs": [],
   "source": [
    "os.makedirs(os.path.join(pathsample,'{}32_64/'.format(exp)), exist_ok=True)\n",
    "utils.save_hdf5(gen_samples_64, os.path.join(pathsample,'{}32_64/64_samples_ckpt_latest.h5'.format(exp)))"
   ]
  },
  {
   "cell_type": "code",
   "execution_count": null,
   "metadata": {},
   "outputs": [],
   "source": [
    "cmin = 0\n",
    "cmax = 2.5\n",
    "clim = (cmin, cmax)\n",
    "plot_cubes_paper(gen_samples_64, cmap=plt.cm.plasma, clim=clim, nx=4, ny=4);\n"
   ]
  },
  {
   "cell_type": "markdown",
   "metadata": {},
   "source": [
    "## 64->256"
   ]
  },
  {
   "cell_type": "code",
   "execution_count": null,
   "metadata": {},
   "outputs": [],
   "source": [
    "gen_samples_64 = utils.load_hdf5(os.path.join(pathsample,'{}32_64/64_samples_ckpt_latest.h5'.format(exp)))\n",
    "\n",
    "print('gen_samples_64 shape=', gen_samples_64.shape)\n",
    "gen_samples_64 = np.expand_dims(gen_samples_64, axis=4)[:num_samples]\n",
    "print('downsampled shape=', gen_samples_64.shape)"
   ]
  },
  {
   "cell_type": "code",
   "execution_count": null,
   "metadata": {},
   "outputs": [],
   "source": [
    "name = 'WGAN_{}64_to_256_checkpoints'.format(exp)\n",
    "checkpoint256 = 76000 # to be changed if you retrain the network\n",
    "pathmodel256 = os.path.join(pathmodel, name)\n",
    "\n",
    "params_256 = utils.load_params(pathmodel256)\n"
   ]
  },
  {
   "cell_type": "code",
   "execution_count": null,
   "metadata": {},
   "outputs": [],
   "source": [
    "wgan_256 = UpscaleGANsystem(CosmoUpscalePatchWGAN, params_256)\n",
    "gen_samples_256 = wgan_256.upscale_image(small=gen_samples_64, checkpoint=checkpoint256)"
   ]
  },
  {
   "cell_type": "code",
   "execution_count": null,
   "metadata": {},
   "outputs": [],
   "source": [
    "cmin = 0\n",
    "cmax = 3.5\n",
    "clim = (cmin, cmax)\n",
    "plot_cubes_paper(gen_samples_256, cmap=plt.cm.plasma, clim=clim, nx=2, ny=2);"
   ]
  },
  {
   "cell_type": "code",
   "execution_count": null,
   "metadata": {},
   "outputs": [],
   "source": [
    "# fps=16\n",
    "# clim = (0,4.5)\n",
    "# animation = plot.cubes_to_animation(map_to_plot(gen_samples_256), cmap=plt.cm.plasma, clim=clim)\n",
    "# # animation = plot.cubes_to_animation(real_samples_256, cmap=plt.cm.plasma, clim=clim)\n",
    "# animation.ipython_display(fps=16, loop=True, autoplay=True)"
   ]
  },
  {
   "cell_type": "code",
   "execution_count": null,
   "metadata": {},
   "outputs": [],
   "source": [
    "os.makedirs(os.path.join(pathsample,'{}64_256/'.format(exp)), exist_ok=True)\n",
    "utils.save_hdf5(gen_samples_256, os.path.join(pathsample,'{}64_256/256_samples_ckpt_latest.h5'.format(exp)))"
   ]
  },
  {
   "cell_type": "markdown",
   "metadata": {},
   "source": [
    "# Uniscale model\n",
    "This model is not working."
   ]
  },
  {
   "cell_type": "code",
   "execution_count": null,
   "metadata": {},
   "outputs": [],
   "source": [
    "name = 'WGAN_{}uniscale_checkpoints'.format(exp)\n",
    "checkpointuniscale = 38000 # to be changed if you retrain the network\n",
    "\n",
    "pathmodel_uniscale = os.path.join(pathmodel, name)\n",
    "params_uniscale = utils.load_params(pathmodel_uniscale)\n",
    "class CosmoUpscalePatchWGAN(UpscalePatchWGAN, CosmoWGAN):\n",
    "    pass"
   ]
  },
  {
   "cell_type": "code",
   "execution_count": null,
   "metadata": {},
   "outputs": [],
   "source": [
    "wgan_uniscale = UpscaleGANsystem(CosmoUpscalePatchWGAN, params_uniscale)\n",
    "offset_u = 32"
   ]
  },
  {
   "cell_type": "code",
   "execution_count": null,
   "metadata": {},
   "outputs": [],
   "source": [
    "gen_samples_uniscale = wgan_uniscale.upscale_image(N=num_samples, resolution=256+offset_u, checkpoint=checkpointuniscale)[:,offset_u:,offset_u:,offset_u:]\n"
   ]
  },
  {
   "cell_type": "code",
   "execution_count": null,
   "metadata": {},
   "outputs": [],
   "source": [
    "os.makedirs(os.path.join(pathsample,'{}uniscale/'.format(exp)), exist_ok=True)\n",
    "utils.save_hdf5(gen_samples_uniscale, os.path.join(pathsample,'{}uniscale/256_samples_ckpt_latest.h5'.format(exp)))"
   ]
  },
  {
   "cell_type": "code",
   "execution_count": null,
   "metadata": {},
   "outputs": [],
   "source": [
    "cmin = 0\n",
    "cmax = 3.5\n",
    "clim = (cmin, cmax)\n",
    "plot_cubes_paper(gen_samples_uniscale, cmap=plt.cm.plasma, clim=clim, nx=2, ny=2);"
   ]
  },
  {
   "cell_type": "markdown",
   "metadata": {},
   "source": [
    "# Make the figures for the paper"
   ]
  },
  {
   "cell_type": "code",
   "execution_count": null,
   "metadata": {},
   "outputs": [],
   "source": [
    "pathfig = 'figures/'\n",
    "os.makedirs(pathfig, exist_ok=True)"
   ]
  },
  {
   "cell_type": "code",
   "execution_count": null,
   "metadata": {},
   "outputs": [],
   "source": [
    "offset = 0"
   ]
  },
  {
   "cell_type": "markdown",
   "metadata": {},
   "source": [
    "#### Load all samples"
   ]
  },
  {
   "cell_type": "code",
   "execution_count": null,
   "metadata": {},
   "outputs": [],
   "source": [
    "gen_samples_32 = utils.load_hdf5(os.path.join(pathsample,'{}0_32/32_samples_ckpt_latest.h5'.format(exp)))\n",
    "gen_samples_64 = utils.load_hdf5(os.path.join(pathsample,'{}32_64/64_samples_ckpt_latest.h5'.format(exp)))\n",
    "gen_samples_256 = utils.load_hdf5(os.path.join(pathsample,'{}64_256/256_samples_ckpt_latest.h5'.format(exp)))[:,offset:,offset:,offset:]\n",
    "gen_samples_uniscale = utils.load_hdf5(os.path.join(pathsample,'{}uniscale/256_samples_ckpt_latest.h5'.format(exp)))[:,offset:,offset:,offset:]\n"
   ]
  },
  {
   "cell_type": "markdown",
   "metadata": {},
   "source": [
    "#### Backward transform"
   ]
  },
  {
   "cell_type": "code",
   "execution_count": null,
   "metadata": {},
   "outputs": [],
   "source": [
    "gen_samples_32_raw = backward(gen_samples_32)\n",
    "gen_samples_64_raw = backward(gen_samples_64)\n",
    "gen_samples_256_raw = backward(gen_samples_256)\n"
   ]
  },
  {
   "cell_type": "code",
   "execution_count": null,
   "metadata": {},
   "outputs": [],
   "source": [
    "gen_samples_uniscale_raw = backward(gen_samples_uniscale)\n"
   ]
  },
  {
   "cell_type": "markdown",
   "metadata": {},
   "source": [
    "#### Load real data"
   ]
  },
  {
   "cell_type": "code",
   "execution_count": null,
   "metadata": {},
   "outputs": [],
   "source": [
    "dataset256 = load.load_nbody_dataset(resolution=256,Mpch=350,shuffle=False,forward_map=forward,spix=256,patch=False,is_3d=True,augmentation=False)\n",
    "real_samples_256 = dataset256.get_all_data()[:,offset:,offset:,offset:]\n",
    "del dataset256\n"
   ]
  },
  {
   "cell_type": "code",
   "execution_count": null,
   "metadata": {},
   "outputs": [],
   "source": [
    "real_samples_256_raw = backward(real_samples_256)"
   ]
  },
  {
   "cell_type": "code",
   "execution_count": null,
   "metadata": {},
   "outputs": [],
   "source": [
    "dataset32 = load.load_nbody_dataset(resolution=256,Mpch=350,shuffle=False,forward_map=forward,spix=32,patch=False,is_3d=True,augmentation=False, scaling=8)\n",
    "real_samples_32 = dataset32.get_all_data()\n",
    "del dataset32"
   ]
  },
  {
   "cell_type": "code",
   "execution_count": null,
   "metadata": {},
   "outputs": [],
   "source": [
    "real_samples_32_raw = backward(real_samples_32)"
   ]
  },
  {
   "cell_type": "code",
   "execution_count": null,
   "metadata": {},
   "outputs": [],
   "source": [
    "dataset64 = load.load_nbody_dataset(resolution=256,Mpch=350,shuffle=False,forward_map=forward,spix=64,patch=False,is_3d=True,augmentation=False, scaling=4)\n",
    "real_samples_64 = dataset64.get_all_data()\n",
    "del dataset64"
   ]
  },
  {
   "cell_type": "code",
   "execution_count": null,
   "metadata": {},
   "outputs": [],
   "source": [
    "real_samples_64_raw = backward(real_samples_64)"
   ]
  },
  {
   "cell_type": "code",
   "execution_count": null,
   "metadata": {},
   "outputs": [],
   "source": [
    "# cmin = np.min(cubes)\n",
    "# cmax = np.max(cubes)/1.5\n",
    "cmin = 0\n",
    "cmax = 3.5\n",
    "clim = (cmin, cmax)\n",
    "fig = plot_cubes_paper(real_samples_256, cmap=plt.cm.plasma, clim=clim);\n",
    "fig.suptitle('Real $256^3$', y=1.02, fontsize=24 )\n",
    "plt.savefig(pathfig+\"real256.pdf\", bbox_inches='tight', format='pdf')\n",
    "\n",
    "fig2 = plot_cubes_paper(gen_samples_256, cmap=plt.cm.plasma, clim=clim);\n",
    "fig2.suptitle('Fake $256^3$', y=1.02, fontsize=24 )\n",
    "plt.savefig(pathfig+\"fake256.pdf\", bbox_inches='tight', format='pdf')\n",
    "\n"
   ]
  },
  {
   "cell_type": "code",
   "execution_count": null,
   "metadata": {},
   "outputs": [],
   "source": [
    "plt.figure(figsize=(6,3))\n",
    "_ = evaluation.compute_and_plot_mass_hist(real_samples_256_raw, gen_samples_256_raw, confidence='std' )\n",
    "plt.savefig(pathfig+\"256full_hist.pdf\", bbox_inches='tight', format='pdf')"
   ]
  },
  {
   "cell_type": "code",
   "execution_count": null,
   "metadata": {},
   "outputs": [],
   "source": [
    "plt.figure(figsize=(6,3))\n",
    "_ = evaluation.compute_and_plot_peak_count(real_samples_256_raw, gen_samples_256_raw, confidence='std')\n",
    "plt.savefig(pathfig+\"256full_peak.pdf\", bbox_inches='tight', format='pdf')"
   ]
  },
  {
   "cell_type": "code",
   "execution_count": null,
   "metadata": {},
   "outputs": [],
   "source": [
    "plt.figure(figsize=(6,3))\n",
    "_ = evaluation.compute_and_plot_psd(real_samples_256_raw, gen_samples_256_raw, confidence='std')\n",
    "plt.savefig(pathfig+\"256full_psd.pdf\", bbox_inches='tight', format='pdf')"
   ]
  },
  {
   "cell_type": "code",
   "execution_count": null,
   "metadata": {},
   "outputs": [],
   "source": [
    "from cosmotools.metric.score import score_histogram, score_peak_histogram, score_psd\n",
    "print('PSD score: {}'.format(score_psd(real_samples_256_raw, gen_samples_256_raw)))\n",
    "print('Mass histogram score: {}'.format(score_histogram(real_samples_256_raw, gen_samples_256_raw)))\n",
    "print('Peak histogram score: {}'.format(score_peak_histogram(real_samples_256_raw, gen_samples_256_raw)))"
   ]
  },
  {
   "cell_type": "code",
   "execution_count": null,
   "metadata": {},
   "outputs": [],
   "source": [
    "from cosmotools.metric.score import score_histogram, score_peak_histogram, score_psd\n",
    "print('PSD score: {}'.format(score_psd(real_samples_256_raw[15:], real_samples_256_raw[:15])))\n",
    "print('Mass histogram score: {}'.format(score_histogram(real_samples_256_raw[15:], real_samples_256_raw[:15])))\n",
    "print('Peak histogram score: {}'.format(score_peak_histogram(real_samples_256_raw[15:], real_samples_256_raw[:15])))"
   ]
  },
  {
   "cell_type": "markdown",
   "metadata": {},
   "source": [
    "# Scale by scale analysis"
   ]
  },
  {
   "cell_type": "markdown",
   "metadata": {},
   "source": [
    "## 32 cubes"
   ]
  },
  {
   "cell_type": "code",
   "execution_count": null,
   "metadata": {},
   "outputs": [],
   "source": [
    "gen_samples_32 = utils.load_hdf5(os.path.join(pathsample,'{}0_32/32_samples_ckpt_latest.h5'.format(exp)))\n",
    "gen_samples_32_raw = backward(gen_samples_32)"
   ]
  },
  {
   "cell_type": "code",
   "execution_count": null,
   "metadata": {
    "scrolled": false
   },
   "outputs": [],
   "source": [
    "# cmin = np.min(cubes_32)\n",
    "# # cmin = 0\n",
    "# cmax = np.max(cubes_32)\n",
    "cmin = 0.1\n",
    "cmax = 2\n",
    "clim = (cmin, cmax)\n",
    "fig = plot_cubes_paper(real_samples_32, cmap=plt.cm.plasma, clim=clim, nx=4, ny=4);\n",
    "fig.suptitle('Real $32^3$', y=1.03, fontsize=48 )\n",
    "plt.savefig(pathfig+\"real32.pdf\", bbox_inches='tight', format='pdf')\n",
    "\n",
    "fig2 = plot_cubes_paper(gen_samples_32, cmap=plt.cm.plasma, clim=clim, nx=4, ny=4);\n",
    "fig2.suptitle('Fake $32^3$', y=1.03, fontsize=48 )\n",
    "plt.savefig(pathfig+\"fake32.pdf\", bbox_inches='tight', format='pdf')\n",
    "\n"
   ]
  },
  {
   "cell_type": "code",
   "execution_count": null,
   "metadata": {},
   "outputs": [],
   "source": [
    "plt.figure(figsize=(6,3))\n",
    "_ = evaluation.compute_and_plot_mass_hist(real_samples_32_raw, gen_samples_32_raw, confidence='std', lim=None)\n",
    "plt.savefig(pathfig+\"32_hist.pdf\", bbox_inches='tight', format='pdf')"
   ]
  },
  {
   "cell_type": "code",
   "execution_count": null,
   "metadata": {},
   "outputs": [],
   "source": [
    "plt.figure(figsize=(6,3))\n",
    "_ = evaluation.compute_and_plot_peak_count(real_samples_32_raw, gen_samples_32_raw, confidence='std', lim=None)\n",
    "plt.savefig(pathfig+\"32_peak.pdf\", bbox_inches='tight', format='pdf')"
   ]
  },
  {
   "cell_type": "code",
   "execution_count": null,
   "metadata": {},
   "outputs": [],
   "source": [
    "plt.figure(figsize=(6,3))\n",
    "_ = evaluation.compute_and_plot_psd(real_samples_32_raw, gen_samples_32_raw, confidence='std')\n",
    "plt.savefig(pathfig+\"32_psd.pdf\", bbox_inches='tight', format='pdf')"
   ]
  },
  {
   "cell_type": "markdown",
   "metadata": {},
   "source": [
    "## 64 Cubes"
   ]
  },
  {
   "cell_type": "code",
   "execution_count": null,
   "metadata": {},
   "outputs": [],
   "source": [
    "params_64 = utils.load_params(pathmodel64)\n",
    "wgan_64 = UpscaleGANsystem(CosmoUpscalePatchWGAN, params_64)\n",
    "gen_samples_64_single = wgan_64.upscale_image(small=np.reshape(real_samples_32, [*real_samples_32.shape,1]), checkpoint=checkpoint64)"
   ]
  },
  {
   "cell_type": "code",
   "execution_count": null,
   "metadata": {},
   "outputs": [],
   "source": [
    "gen_samples_64_single_raw = backward(gen_samples_64_single)"
   ]
  },
  {
   "cell_type": "code",
   "execution_count": null,
   "metadata": {
    "scrolled": false
   },
   "outputs": [],
   "source": [
    "# cmin = np.min(cubes_64)\n",
    "# cmax = np.max(cubes_64)\n",
    "cmin = 0\n",
    "cmax = 2.5\n",
    "clim = (cmin, cmax)\n",
    "fig = plot_cubes_paper(real_samples_64, cmap=plt.cm.plasma, clim=clim);\n",
    "fig.suptitle('Real $64^3$', y=1.04, fontsize=36 )\n",
    "plt.savefig(pathfig+\"up_real64.pdf\", bbox_inches='tight', format='pdf')\n",
    "\n",
    "fig2 = plot_cubes_paper(gen_samples_64_single, cmap=plt.cm.plasma, clim=clim);\n",
    "fig2.suptitle('Fake $64^3$', y=1.04, fontsize=36 )\n",
    "plt.savefig(pathfig+\"up_fake64.pdf\", bbox_inches='tight', format='pdf')\n",
    "\n",
    "fig = plot_cubes_paper(real_samples_32, cmap=plt.cm.plasma, clim=clim);\n",
    "fig.suptitle('Real downsampled $32^3$', y=1.04, fontsize=36 )\n",
    "plt.savefig(pathfig+\"up_down32.pdf\", bbox_inches='tight', format='pdf')"
   ]
  },
  {
   "cell_type": "code",
   "execution_count": null,
   "metadata": {},
   "outputs": [],
   "source": [
    "plt.figure(figsize=(6,3))\n",
    "_ = evaluation.compute_and_plot_mass_hist(real_samples_64_raw, gen_samples_64_single_raw, confidence='std')\n",
    "plt.savefig(pathfig+\"up_64_hist.pdf\", bbox_inches='tight', format='pdf')"
   ]
  },
  {
   "cell_type": "code",
   "execution_count": null,
   "metadata": {},
   "outputs": [],
   "source": [
    "plt.figure(figsize=(6,3))\n",
    "_ = evaluation.compute_and_plot_peak_count(real_samples_64_raw, gen_samples_64_single_raw, confidence='std')\n",
    "plt.savefig(pathfig+\"up_64_peak.pdf\", bbox_inches='tight', format='pdf')"
   ]
  },
  {
   "cell_type": "code",
   "execution_count": null,
   "metadata": {},
   "outputs": [],
   "source": [
    "plt.figure(figsize=(6,3))\n",
    "_ = evaluation.compute_and_plot_psd(real_samples_64_raw, gen_samples_64_single_raw, confidence='std')\n",
    "plt.savefig(pathfig+\"up_64_psd.pdf\", bbox_inches='tight', format='pdf')"
   ]
  },
  {
   "cell_type": "markdown",
   "metadata": {},
   "source": [
    "## 256 Cubes"
   ]
  },
  {
   "cell_type": "code",
   "execution_count": null,
   "metadata": {},
   "outputs": [],
   "source": [
    "params_256 = utils.load_params(pathmodel256)\n",
    "# checkpoint256 = None\n",
    "\n",
    "wgan_256 = UpscaleGANsystem(CosmoUpscalePatchWGAN, params_256)\n",
    "gen_samples_single_256 = wgan_256.upscale_image(small=np.reshape(real_samples_64, [*real_samples_64.shape, 1]), checkpoint=checkpoint256)[:,offset:,offset:,offset:]"
   ]
  },
  {
   "cell_type": "code",
   "execution_count": null,
   "metadata": {},
   "outputs": [],
   "source": [
    "# cmin = np.min(cubes_256)\n",
    "# cmax = np.max(cubes_256)/2.5\n",
    "cmin = 0\n",
    "cmax = 3\n",
    "clim = (cmin, cmax)\n",
    "fig = plot_cubes_paper(real_samples_256, cmap=plt.cm.plasma, clim=clim, ny=1);\n",
    "fig.suptitle('Real $256^3$', y=1.03, fontsize=12 )\n",
    "plt.savefig(pathfig+\"up_real256.pdf\", bbox_inches='tight', format='pdf')\n",
    "\n",
    "fig2 = plot_cubes_paper(gen_samples_single_256, cmap=plt.cm.plasma, clim=clim, ny=1);\n",
    "fig2.suptitle('Fake $256^3$', y=1.03, fontsize=12 )\n",
    "plt.savefig(pathfig+\"up_fake256.pdf\", bbox_inches='tight', format='pdf')\n",
    "\n",
    "fig = plot_cubes_paper(real_samples_64, cmap=plt.cm.plasma, clim=clim, ny=1);\n",
    "fig.suptitle('Real downsampled $64^3$', y=1.03, fontsize=12 )\n",
    "plt.savefig(pathfig+\"up_down64.pdf\", bbox_inches='tight', format='pdf')"
   ]
  },
  {
   "cell_type": "code",
   "execution_count": null,
   "metadata": {},
   "outputs": [],
   "source": [
    "gen_samples_single_256_raw = backward(gen_samples_single_256)"
   ]
  },
  {
   "cell_type": "code",
   "execution_count": null,
   "metadata": {},
   "outputs": [],
   "source": [
    "plt.figure(figsize=(6,3))\n",
    "_ = evaluation.compute_and_plot_mass_hist(real_samples_256_raw, gen_samples_single_256_raw, confidence='std')\n",
    "plt.savefig(pathfig+\"up_256_hist.pdf\", bbox_inches='tight', format='pdf')"
   ]
  },
  {
   "cell_type": "code",
   "execution_count": null,
   "metadata": {},
   "outputs": [],
   "source": [
    "plt.figure(figsize=(6,3))\n",
    "_ = evaluation.compute_and_plot_peak_count(real_samples_256_raw, gen_samples_single_256_raw, confidence='std')\n",
    "plt.savefig(pathfig+\"up_256_peak.pdf\", bbox_inches='tight', format='pdf')"
   ]
  },
  {
   "cell_type": "code",
   "execution_count": null,
   "metadata": {},
   "outputs": [],
   "source": [
    "plt.figure(figsize=(6,3))\n",
    "_ = evaluation.compute_and_plot_psd(real_samples_256_raw, gen_samples_single_256_raw, confidence='std')\n",
    "plt.savefig(pathfig+\"up_256_psd.pdf\", bbox_inches='tight', format='pdf')"
   ]
  },
  {
   "cell_type": "code",
   "execution_count": null,
   "metadata": {},
   "outputs": [],
   "source": [
    "fig = plot_cubes_paper(real_samples_256, cmap=plt.cm.plasma, clim=clim, ny=1, nx=1);\n",
    "fig.suptitle('Real $256^3$', y=1.03, fontsize=12 )\n",
    "\n",
    "fig2 = plot_cubes_paper(gen_samples_single_256, cmap=plt.cm.plasma, clim=clim, ny=1, nx=1);\n",
    "fig2.suptitle('Fake $256^3$', y=1.03, fontsize=12 )\n"
   ]
  },
  {
   "cell_type": "code",
   "execution_count": null,
   "metadata": {},
   "outputs": [],
   "source": [
    "# fps=16\n",
    "# clim = (0,3.5)\n",
    "# animation = plot.cubes_to_animation(gen_samples_single_256, cmap=plt.cm.plasma, clim=clim)\n",
    "# animation.ipython_display(fps=16, loop=True, autoplay=True)"
   ]
  },
  {
   "cell_type": "markdown",
   "metadata": {},
   "source": [
    "## Uniscale"
   ]
  },
  {
   "cell_type": "code",
   "execution_count": null,
   "metadata": {},
   "outputs": [],
   "source": [
    "cmin = 0\n",
    "cmax = 3\n",
    "clim = (cmin, cmax)\n",
    "fig = plot_cubes_paper(real_samples_256, cmap=plt.cm.plasma, clim=clim);\n",
    "fig.suptitle('Real $256^3$', y=1.02, fontsize=24 )\n",
    "plt.savefig(pathfig+\"uniscalereal256.pdf\", bbox_inches='tight', format='pdf')\n",
    "\n",
    "fig2 = plot_cubes_paper(gen_samples_uniscale, cmap=plt.cm.plasma, clim=clim);\n",
    "fig2.suptitle('Fake $256^3 - uniscale$', y=1.02, fontsize=24 )\n",
    "plt.savefig(pathfig+\"uniscalefake256.pdf\", bbox_inches='tight', format='pdf')"
   ]
  },
  {
   "cell_type": "code",
   "execution_count": null,
   "metadata": {},
   "outputs": [],
   "source": [
    "plt.figure(figsize=(6,3))\n",
    "_ = evaluation.compute_and_plot_mass_hist(real_samples_256_raw, gen_samples_uniscale_raw, confidence='std')\n",
    "plt.savefig(pathfig+\"256uniscale_hist.pdf\", bbox_inches='tight', format='pdf')"
   ]
  },
  {
   "cell_type": "code",
   "execution_count": null,
   "metadata": {},
   "outputs": [],
   "source": [
    "plt.figure(figsize=(6,3))\n",
    "_ = evaluation.compute_and_plot_peak_count(real_samples_256_raw, gen_samples_uniscale_raw, confidence='std')\n",
    "plt.savefig(pathfig+\"256uniscale_peak.pdf\", bbox_inches='tight', format='pdf')"
   ]
  },
  {
   "cell_type": "code",
   "execution_count": null,
   "metadata": {},
   "outputs": [],
   "source": [
    "plt.figure(figsize=(6,3))\n",
    "_ = evaluation.compute_and_plot_psd(real_samples_256_raw, gen_samples_uniscale_raw, confidence='std')\n",
    "plt.savefig(pathfig+\"256uniscale_psd.pdf\", bbox_inches='tight', format='pdf')"
   ]
  },
  {
   "cell_type": "markdown",
   "metadata": {},
   "source": [
    "# Make videos\n",
    "All video are saved in HD."
   ]
  },
  {
   "cell_type": "code",
   "execution_count": null,
   "metadata": {},
   "outputs": [],
   "source": [
    "cmin = 0\n",
    "cmax = 3\n",
    "clim = (cmin, cmax)"
   ]
  },
  {
   "cell_type": "code",
   "execution_count": null,
   "metadata": {},
   "outputs": [],
   "source": [
    "plot.save_animation(real_samples_32[0:16], gen_samples_32[0:16], figsize=(20, 11.25), fontsize=40, fps=8, format='mp4', output_file_name=pathfig+'cubes32.mp4', clim=clim, names=['Real', 'Fake'])\n"
   ]
  },
  {
   "cell_type": "code",
   "execution_count": null,
   "metadata": {},
   "outputs": [],
   "source": [
    "plot.save_animation(real_samples_64[0:16], gen_samples_64[0:16], figsize=(20, 11.25), fontsize=40, fps=8, format='mp4', output_file_name=pathfig+'cubes64.mp4', clim=clim, names=['Real', 'Fake'])\n"
   ]
  },
  {
   "cell_type": "code",
   "execution_count": null,
   "metadata": {},
   "outputs": [],
   "source": [
    "plot.save_animation(real_samples_256[0:16], gen_samples_256[0:16], figsize=(20, 11.25), fontsize=40, fps=16, format='mp4', output_file_name=pathfig+'cubes256.mp4', clim=clim, names=['Real', 'Fake'])\n"
   ]
  },
  {
   "cell_type": "code",
   "execution_count": null,
   "metadata": {},
   "outputs": [],
   "source": [
    "plot.save_animation(real_samples_256[0:16], gen_samples_single_256[0:16], real_downsampled=real_samples_64[0:16], figsize=(20, 11.25), fontsize=40, fps=16, format='mp4', output_file_name=pathfig+'single_scale_256.mp4', clim=clim, names=['Real', 'Downsampled', 'Fake'])\n"
   ]
  },
  {
   "cell_type": "code",
   "execution_count": null,
   "metadata": {},
   "outputs": [],
   "source": [
    "plot.save_animation(real_samples_64[0:16], gen_samples_64_single[0:16], real_downsampled=real_samples_32[0:16], figsize=(20, 11.25), fontsize=40, fps=8, format='mp4', output_file_name=pathfig+'single_scale_64.mp4', clim=clim, names=['Real', 'Downsampled', 'Fake'])\n"
   ]
  },
  {
   "cell_type": "code",
   "execution_count": null,
   "metadata": {},
   "outputs": [],
   "source": [
    "plot.save_animation(real_samples_256[0:16], gen_samples_uniscale[0:16], figsize=(20, 11.25), fontsize=40, fps=16, format='mp4', output_file_name=pathfig+'uniscale256.mp4', clim=clim, names=['Real', 'Fake'])\n"
   ]
  },
  {
   "cell_type": "code",
   "execution_count": null,
   "metadata": {},
   "outputs": [],
   "source": []
  }
 ],
 "metadata": {
  "kernelspec": {
   "display_name": "Python 3",
   "language": "python",
   "name": "python3"
  },
  "language_info": {
   "codemirror_mode": {
    "name": "ipython",
    "version": 3
   },
   "file_extension": ".py",
   "mimetype": "text/x-python",
   "name": "python",
   "nbconvert_exporter": "python",
   "pygments_lexer": "ipython3",
   "version": "3.5.2"
  }
 },
 "nbformat": 4,
 "nbformat_minor": 2
}
