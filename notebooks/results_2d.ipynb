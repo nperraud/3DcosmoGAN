{
 "cells": [
  {
   "cell_type": "code",
   "execution_count": null,
   "metadata": {},
   "outputs": [],
   "source": [
    "%load_ext autoreload\n",
    "%autoreload 2\n",
    "%matplotlib inline"
   ]
  },
  {
   "cell_type": "code",
   "execution_count": null,
   "metadata": {},
   "outputs": [],
   "source": [
    "import sys\n",
    "sys.path.insert(0, '../')"
   ]
  },
  {
   "cell_type": "code",
   "execution_count": null,
   "metadata": {},
   "outputs": [],
   "source": [
    "from matplotlib import pyplot as plt\n",
    "import os\n",
    "os.environ[\"CUDA_VISIBLE_DEVICES\"]=\"1\"\n",
    "\n",
    "import numpy as np\n",
    "import tensorflow as tf\n",
    "\n",
    "from cosmotools.data import load\n",
    "from gantools import utils\n",
    "from gantools.model import WGAN\n",
    "from gantools.gansystem import GANsystem\n",
    "from cosmotools.data import fmap\n",
    "import functools\n",
    "from copy import deepcopy\n",
    "\n",
    "from cosmotools.metric import evaluation\n",
    "from cosmotools.model import CosmoWGAN"
   ]
  },
  {
   "cell_type": "code",
   "execution_count": null,
   "metadata": {},
   "outputs": [],
   "source": [
    "# Setting the forward and backward transform\n",
    "\n",
    "shift = 1\n",
    "c = 20000\n",
    "from functools import partial\n",
    "forward = partial(fmap.stat_forward, shift=shift, c=c)\n",
    "backward = partial(fmap.stat_backward, shift=shift, c=c)"
   ]
  },
  {
   "cell_type": "code",
   "execution_count": null,
   "metadata": {},
   "outputs": [],
   "source": [
    "def map_to_plot(img):\n",
    "    return fmap.log_forward(backward(img))\n",
    "\n",
    "def plot_cubes_paper(images, nx=2, ny=2, **kwargs):\n",
    "    if len(images)<nx*ny:\n",
    "        raise ValueError(\"Not enough samples.\")\n",
    "    fig, ax = plt.subplots(nx, ny, sharey=True,figsize=(11/2*nx,10.5/2*ny))\n",
    "    sn = 0\n",
    "    for i in range(nx):\n",
    "        for j in range(ny):\n",
    "            if nx==1 and ny==1:\n",
    "                tax = ax\n",
    "            elif nx==1:\n",
    "                tax = ax[j]\n",
    "            elif ny==1:\n",
    "                tax = ax[i]\n",
    "            else:\n",
    "                tax = ax[i,j]\n",
    "            tax.imshow(map_to_plot(images[sn]), interpolation='none', **kwargs)\n",
    "            tax.axis('off')\n",
    "            sn += 1\n",
    "    plt.tight_layout()\n",
    "\n",
    "    return fig"
   ]
  },
  {
   "cell_type": "code",
   "execution_count": null,
   "metadata": {},
   "outputs": [],
   "source": [
    "pathcheckpoints = '../saved_results/nbody-2d'"
   ]
  },
  {
   "cell_type": "code",
   "execution_count": null,
   "metadata": {},
   "outputs": [],
   "source": [
    "pathfig = 'figures_2d/'\n",
    "os.makedirs(pathfig, exist_ok=True)"
   ]
  },
  {
   "cell_type": "code",
   "execution_count": null,
   "metadata": {},
   "outputs": [],
   "source": [
    "# Select here the size of the image\n",
    "ns = 256 # 32, 64, 128, 256\n",
    "\n",
    "# number of sample generated\n",
    "num_samples = 256*256*256//(ns*ns)"
   ]
  },
  {
   "cell_type": "code",
   "execution_count": null,
   "metadata": {},
   "outputs": [],
   "source": [
    "name = 'WGAN{}test_full_2D_checkpoints'.format(ns)\n",
    "\n",
    "# Number to be changed if you retrain the network\n",
    "if ns==32:\n",
    "    checkpoint = 210000\n",
    "elif ns==64:\n",
    "    checkpoint = 148000\n",
    "elif ns==128:\n",
    "    checkpoint = 216000\n",
    "elif ns==256:\n",
    "    checkpoint = 96000\n",
    "else:\n",
    "    checkpoint = None\n",
    "\n",
    "\n",
    "pathmodel = os.path.join(pathcheckpoints, name)\n",
    "params = utils.load_params(pathmodel)"
   ]
  },
  {
   "cell_type": "code",
   "execution_count": null,
   "metadata": {},
   "outputs": [],
   "source": [
    "wgan = GANsystem(CosmoWGAN,params)"
   ]
  },
  {
   "cell_type": "code",
   "execution_count": null,
   "metadata": {},
   "outputs": [],
   "source": [
    "gen_samples = wgan.generate(N=num_samples, checkpoint=checkpoint)\n",
    "gen_samples = np.squeeze(gen_samples)"
   ]
  },
  {
   "cell_type": "code",
   "execution_count": null,
   "metadata": {},
   "outputs": [],
   "source": [
    "dataset = load.load_nbody_dataset(ncubes=30, spix=ns, forward_map=forward)\n",
    "real_samples = np.squeeze(dataset.get_all_data())\n",
    "del dataset"
   ]
  },
  {
   "cell_type": "markdown",
   "metadata": {},
   "source": [
    "# Plot samples"
   ]
  },
  {
   "cell_type": "code",
   "execution_count": null,
   "metadata": {},
   "outputs": [],
   "source": [
    "cmin = 0\n",
    "cmax = 4\n",
    "clim = (cmin, cmax)\n",
    "fig = plot_cubes_paper(real_samples, cmap=plt.cm.plasma, clim=clim);\n",
    "fig.suptitle('Real ${}^2$'.format(ns), y=1.04, fontsize=36 )\n",
    "plt.savefig(pathfig+\"2d-real{}.png\".format(ns), bbox_inches='tight', format='png')\n",
    "\n",
    "fig2 = plot_cubes_paper(gen_samples, cmap=plt.cm.plasma, clim=clim);\n",
    "fig2.suptitle('Fake ${}^2$'.format(ns), y=1.04, fontsize=36 )\n",
    "plt.savefig(pathfig+\"2d-fake{}.png\".format(ns), bbox_inches='tight', format='png')"
   ]
  },
  {
   "cell_type": "markdown",
   "metadata": {},
   "source": [
    "# Invert the transform\n"
   ]
  },
  {
   "cell_type": "code",
   "execution_count": null,
   "metadata": {},
   "outputs": [],
   "source": [
    "gen_samples_raw = backward(gen_samples)\n",
    "real_samples_raw = backward(real_samples)"
   ]
  },
  {
   "cell_type": "markdown",
   "metadata": {},
   "source": [
    "# Compute stats and scores"
   ]
  },
  {
   "cell_type": "code",
   "execution_count": null,
   "metadata": {},
   "outputs": [],
   "source": [
    "plt.figure(figsize=(6,3))\n",
    "_ = evaluation.compute_and_plot_mass_hist(real_samples_raw[:num_samples], gen_samples_raw[:num_samples], confidence='std', lim=None)\n",
    "plt.savefig(pathfig+\"{}_hist.pdf\".format(ns), bbox_inches='tight', format='pdf')"
   ]
  },
  {
   "cell_type": "code",
   "execution_count": null,
   "metadata": {},
   "outputs": [],
   "source": [
    "plt.figure(figsize=(6,3))\n",
    "_ = evaluation.compute_and_plot_peak_count(real_samples_raw[:num_samples], gen_samples_raw[:num_samples], confidence='std', lim=None)\n",
    "plt.savefig(pathfig+\"{}_peak.pdf\".format(ns), bbox_inches='tight', format='pdf')"
   ]
  },
  {
   "cell_type": "code",
   "execution_count": null,
   "metadata": {},
   "outputs": [],
   "source": [
    "plt.figure(figsize=(6,3))\n",
    "_ = evaluation.compute_and_plot_psd(real_samples_raw[:num_samples], gen_samples_raw[:num_samples], confidence='std')\n",
    "plt.savefig(pathfig+\"{}_psd.pdf\".format(ns), bbox_inches='tight', format='pdf')"
   ]
  },
  {
   "cell_type": "code",
   "execution_count": null,
   "metadata": {},
   "outputs": [],
   "source": [
    "from cosmotools.metric.score import score_histogram, score_peak_histogram, score_psd\n",
    "print('PSD score: {}'.format(score_psd(real_samples_raw[:num_samples], gen_samples_raw[:num_samples])))\n",
    "print('Mass histogram score: {}'.format(score_histogram(real_samples_raw[:num_samples], gen_samples_raw[:num_samples])))\n",
    "print('Peak histogram score: {}'.format(score_peak_histogram(real_samples_raw[:num_samples], gen_samples_raw[:num_samples])))"
   ]
  },
  {
   "cell_type": "markdown",
   "metadata": {},
   "source": [
    "# Obtained results\n",
    "\n",
    "### Size: 32x32\n",
    "- PSD score: 9.24\n",
    "- Mass histogram score: 7.44\n",
    "- Peak histogram score: 3.25\n",
    "\n",
    "### Size: 64x64\n",
    "- PSD score: 5.08\n",
    "- Mass histogram score: 5.56\n",
    "- Peak histogram score: 1.09\n",
    "\n",
    "### Size: 128x128\n",
    "- PSD score: 5.27\n",
    "- Mass histogram score: 4.37\n",
    "- Peak histogram score: 0.89\n",
    "\n",
    "### Size: 256x256\n",
    "- PSD score: 3.36\n",
    "- Mass histogram score: 5.66\n",
    "- Peak histogram score: 1.22"
   ]
  },
  {
   "cell_type": "code",
   "execution_count": null,
   "metadata": {},
   "outputs": [],
   "source": []
  }
 ],
 "metadata": {
  "kernelspec": {
   "display_name": "Python 3",
   "language": "python",
   "name": "python3"
  },
  "language_info": {
   "codemirror_mode": {
    "name": "ipython",
    "version": 3
   },
   "file_extension": ".py",
   "mimetype": "text/x-python",
   "name": "python",
   "nbconvert_exporter": "python",
   "pygments_lexer": "ipython3",
   "version": "3.5.2"
  }
 },
 "nbformat": 4,
 "nbformat_minor": 2
}
